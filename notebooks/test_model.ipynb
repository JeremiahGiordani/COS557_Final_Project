{
 "cells": [
  {
   "cell_type": "code",
   "execution_count": 1,
   "metadata": {},
   "outputs": [],
   "source": [
    "import torch\n",
    "from torch.utils.data import DataLoader, random_split\n",
    "from torchvision import transforms\n",
    "from sklearn.metrics import roc_auc_score, accuracy_score, roc_curve, f1_score\n",
    "import matplotlib.pyplot as plt\n",
    "import numpy as np\n",
    "\n",
    "from dataset import TARXrayDataset\n",
    "from model import TARRevisionClassifier"
   ]
  },
  {
   "cell_type": "code",
   "execution_count": null,
   "metadata": {},
   "outputs": [],
   "source": [
    "image_dir = \"/data/home/cos557/jg0037/rothman/images\"\n",
    "csv_path = \"/data/home/cos557/jg0037/rothman/parsed_xray_files_log.csv\"\n",
    "\n",
    "transform = transforms.Compose([\n",
    "    transforms.Resize((224, 224)),\n",
    "    transforms.ToTensor(),\n",
    "])\n",
    "\n",
    "device = torch.device(\"cuda\" if torch.cuda.is_available() else \"cpu\")\n",
    "print(f\"Using device: {device}\")"
   ]
  },
  {
   "cell_type": "code",
   "execution_count": null,
   "metadata": {},
   "outputs": [],
   "source": [
    "full_dataset = TARXrayDataset(image_dir=image_dir, csv_path=csv_path, transform=transform)\n",
    "\n",
    "# Split: 70% train, 15% val, 15% test\n",
    "total_size = len(full_dataset)\n",
    "train_size = int(0.7 * total_size)\n",
    "val_size = int(0.15 * total_size)\n",
    "test_size = total_size - train_size - val_size\n",
    "\n",
    "train_set, val_set, test_set = random_split(full_dataset, [train_size, val_size, test_size])\n"
   ]
  },
  {
   "cell_type": "code",
   "execution_count": null,
   "metadata": {},
   "outputs": [],
   "source": [
    "def variable_length_collate(batch):\n",
    "    images, labels = zip(*batch)  # list of [N_i, 3, H, W] and list of scalars\n",
    "    return list(images), torch.tensor(labels, dtype=torch.float32)\n",
    "\n",
    "train_loader = DataLoader(train_set, batch_size=8, shuffle=True, collate_fn=variable_length_collate)\n",
    "val_loader = DataLoader(val_set, batch_size=8, collate_fn=variable_length_collate)\n",
    "test_loader = DataLoader(test_set, batch_size=8, collate_fn=variable_length_collate)\n",
    "\n",
    "print(f\"Dataset sizes: Train={len(train_set)}, Val={len(val_set)}, Test={len(test_set)}\")"
   ]
  },
  {
   "cell_type": "code",
   "execution_count": null,
   "metadata": {},
   "outputs": [],
   "source": [
    "model = TARRevisionClassifier(pretrained=True)\n",
    "optimizer = torch.optim.Adam(model.parameters(), lr=1e-4)\n",
    "pos, neg = full_dataset.count_class_distribution()\n",
    "print(f\"Positive samples: {pos}\")\n",
    "print(f\"Negative samples: {neg}\")"
   ]
  },
  {
   "cell_type": "code",
   "execution_count": null,
   "metadata": {},
   "outputs": [],
   "source": [
    "model_path = \"tar_revision_model.pt\"\n",
    "model.load_state_dict(torch.load(model_path, map_location=device))\n",
    "model.to(device)\n",
    "\n",
    "preds, targets = model.infer(test_loader, device=device)\n",
    "\n",
    "acc = accuracy_score(targets, preds)\n",
    "f1 = f1_score(targets, preds, zero_division=1)\n",
    "roc_auc = roc_auc_score(targets, preds)\n",
    "\n",
    "print(f\"Test Accuracy: {acc:.4f}\")\n",
    "print(f\"Test F1 Score: {f1:.4f}\")\n",
    "print(f\"Test ROC AUC: {roc_auc:.4f}\")"
   ]
  }
 ],
 "metadata": {
  "kernelspec": {
   "display_name": "Python 3.9.21 ('env': venv)",
   "language": "python",
   "name": "python3"
  },
  "language_info": {
   "codemirror_mode": {
    "name": "ipython",
    "version": 3
   },
   "file_extension": ".py",
   "mimetype": "text/x-python",
   "name": "python",
   "nbconvert_exporter": "python",
   "pygments_lexer": "ipython3",
   "version": "3.9.21"
  },
  "orig_nbformat": 4,
  "vscode": {
   "interpreter": {
    "hash": "1a3efabaee579bb2a2fd480eb1be5f1095273f7c821d135614183baa9fb35716"
   }
  }
 },
 "nbformat": 4,
 "nbformat_minor": 2
}
